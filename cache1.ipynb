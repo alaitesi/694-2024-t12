{
 "cells": [
  {
   "cell_type": "code",
   "execution_count": 1,
   "id": "5af810b2",
   "metadata": {},
   "outputs": [
    {
     "ename": "ModuleNotFoundError",
     "evalue": "No module named 'psycopg2'",
     "output_type": "error",
     "traceback": [
      "\u001b[1;31m---------------------------------------------------------------------------\u001b[0m",
      "\u001b[1;31mModuleNotFoundError\u001b[0m                       Traceback (most recent call last)",
      "Cell \u001b[1;32mIn[1], line 2\u001b[0m\n\u001b[0;32m      1\u001b[0m \u001b[38;5;28;01mimport\u001b[39;00m \u001b[38;5;21;01mjson\u001b[39;00m\n\u001b[1;32m----> 2\u001b[0m \u001b[38;5;28;01mimport\u001b[39;00m \u001b[38;5;21;01mpsycopg2\u001b[39;00m\n\u001b[0;32m      3\u001b[0m \u001b[38;5;28;01mfrom\u001b[39;00m \u001b[38;5;21;01mfunctools\u001b[39;00m \u001b[38;5;28;01mimport\u001b[39;00m lru_cache\n\u001b[0;32m      4\u001b[0m \u001b[38;5;28;01mimport\u001b[39;00m \u001b[38;5;21;01mtime\u001b[39;00m\n",
      "\u001b[1;31mModuleNotFoundError\u001b[0m: No module named 'psycopg2'"
     ]
    }
   ],
   "source": [
    "import json\n",
    "import psycopg2\n",
    "from functools import lru_cache\n",
    "import time\n",
    "\n",
    "# 建立数据库连接\n",
    "def connect_db():\n",
    "    conn = psycopg2.connect(\n",
    "        host=\"localhost\",\n",
    "        dbname=\"twitter_1\",\n",
    "        user=\"postgres\",\n",
    "        password=\"yx253526\",\n",
    "        port=\"5432\"\n",
    "    )\n",
    "    conn.autocommit = True\n",
    "    return conn\n",
    "\n",
    "# 缓存用户数据，避免重复查询数据库\n",
    "@lru_cache(maxsize=1000)\n",
    "def check_user_exists(user_id_str):\n",
    "    with connect_db() as conn:\n",
    "        with conn.cursor() as cursor:\n",
    "            cursor.execute(\"SELECT 1 FROM user_table WHERE id_str = %s;\", (user_id_str,))\n",
    "            return cursor.fetchone() is not None\n",
    "\n",
    "# 批量处理推文数据，减少数据库操作\n",
    "def batch_process_tweets(tweet_data_list):\n",
    "    with connect_db() as conn:\n",
    "        with conn.cursor() as cursor:\n",
    "            insert_query = \"\"\"\n",
    "            INSERT INTO user_table (id, id_str, name, screen_name, ...)\n",
    "            VALUES (%s, %s, %s, %s, ...)\n",
    "            ON CONFLICT (id_str) DO NOTHING;\n",
    "            \"\"\"\n",
    "            cursor.executemany(insert_query, tweet_data_list)\n",
    "            conn.commit()\n",
    "\n",
    "# 主处理函数\n",
    "def process_tweets(file_path):\n",
    "    tweets_to_insert = []\n",
    "    with open(file_path, \"r\") as file:\n",
    "        for line_number, line in enumerate(file, 1):\n",
    "            line = line.strip()\n",
    "            if not line:\n",
    "                continue\n",
    "            \n",
    "            try:\n",
    "                data = json.loads(line)\n",
    "            except json.JSONDecodeError:\n",
    "                continue\n",
    "            \n",
    "            user_data = data['user']\n",
    "            user_id_str = user_data['id_str']\n",
    "            \n",
    "            # 使用缓存检查用户是否存在\n",
    "            if not check_user_exists(user_id_str):\n",
    "                tweet_tuple = (user_data['id'], user_data['id_str'], user_data['name'], ...)\n",
    "                tweets_to_insert.append(tweet_tuple)\n",
    "            \n",
    "            # 当积累足够的数据时进行批量处理\n",
    "            if len(tweets_to_insert) >= 100:\n",
    "                batch_process_tweets(tweets_to_insert)\n",
    "                tweets_to_insert = []\n",
    "    \n",
    "    # 处理剩余的数据\n",
    "    if tweets_to_insert:\n",
    "        batch_process_tweets(tweets_to_insert)\n",
    "\n",
    "# 调用主处理函数\n",
    "process_tweets(\"corona-out-3\")\n"
   ]
  },
  {
   "cell_type": "code",
   "execution_count": null,
   "id": "25f7c68f",
   "metadata": {},
   "outputs": [],
   "source": []
  }
 ],
 "metadata": {
  "kernelspec": {
   "display_name": "Python 3 (ipykernel)",
   "language": "python",
   "name": "python3"
  },
  "language_info": {
   "codemirror_mode": {
    "name": "ipython",
    "version": 3
   },
   "file_extension": ".py",
   "mimetype": "text/x-python",
   "name": "python",
   "nbconvert_exporter": "python",
   "pygments_lexer": "ipython3",
   "version": "3.10.9"
  }
 },
 "nbformat": 4,
 "nbformat_minor": 5
}
